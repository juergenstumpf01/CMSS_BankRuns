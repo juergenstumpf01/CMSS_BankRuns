{
 "cells": [
  {
   "cell_type": "markdown",
   "id": "a9dc92a5",
   "metadata": {},
   "source": [
    "# Mesa Granovetter example - Granovetter threshold model\n",
    "\n",
    "## Description\n",
    "\n",
    "Models of collective behavior are developed for situations where actors have two alternatives. The Granovetter's models treats binary decisions-those where an actor has two distinct and mutually exclusive behavioral alternatives. In most cases the decision can be thought of as having a positive and negative side- deciding to do a thing or not to, as in deciding whether to join a riot. And the costs and/or benefits of each depend on how many other actors choose which alternative. We may take riots as an example. The cost to an individual of joining a riot declines as riot size increases, since the probability of being apprehended is smaller the larger the number involved.\n",
    "\n",
    "The key concept is that of \"threshold\": the number or proportion of others who must make one decision before a given actor does so; this is the point where net benefits begin to exceed net costs for that particular actor. Different individuals require different levels of safety before entering a riot and also vary in the benefits they derive from rioting. A \"radical\" will have a low threshold: the benefits of rioting are high to him, the cost of arrest, low. Some would be sufficiently radical to have a threshold of 0%/0-people who will riot even when no one else does. These are the \"instigators.\" Conservatives will have high thresholds: the benefits of rioting are small or negative to them and the consequences of arrest high since they are likely to be \"respectable citizens\" rather than \"known rabble-rousers.\" Thresholds of 80% or 90% may be common, and we may allow for those individuals who would not join under any circumstances by assigning them a threshold of 100%. It is not necessary, in fact, to be able to classify a person as radical or conservative from his threshold, and one strength of the concept is that it permits us to avoid such crude dichotomies.\n",
    "\n",
    "Beginning with a frequency distribution of thresholds, the models allow calculation of the ultimate or \"equilibrium\" number making each decision. The stability of equilibrium results against various possible changes in threshold distributions is considered.\n",
    "Stress is placed on the importance of exact distributions for outcomes.\n",
    "\n",
    "Groups with similar average preferences may generate very different results. The models Granovetter describes, by contrast, take as the most important causal influence on outcomes the **variation** of norms and preferences within the interacting group. The normal frequency distribution is of interest here because we may take it to be characteristic of populations where no strong tendencies of any kind exist to distort a distribution of preferences away from its regular variation about some central tendency. Yet, the results obtained are striking and counterintuitive.     \n",
    "\n",
    "## Sample Model Description\n",
    "\n",
    "The excercise model is a very simple simulated agent threshold model. The aim of the formal model presented here is the same: to predict, from the initial distribution of thresholds, the ultimate number or proportion making each of the two decisions. Mathematically, the question is one of finding an equilibrium in a process occurring over time. \n",
    "\n",
    "The rules of our tutorial model:\n",
    "\n",
    "1. There are some number of agents.\n",
    "2. All agents begin with an engagagement threshold for joining a riot\n",
    "3. At every step of the model, an agent considers all other agents joining the riot to see if the proportion is above its own treshold\n",
    "4. If the agent observes that the proportion of other agents joining the riot is above or equal to its own treshold, the agent joins the riot; otherwise, an agent doesn't.\n",
    "\n",
    "Despite its simplicity, this model yields results that are often unexpected to those not familiar with it.\n",
    "\n",
    "## How to use and modify the code\n",
    "\n",
    "These excercises are designed around a Mesa template that is given to you to reuse. You are not asked to perform any complex object programming, but instead we ask for understanding of the core features of the Mesa pyhton package. You will mostly have to modifly the existing template and code the ``Model`` and ``Agent``behavior using standard python code.\n",
    "\n",
    "**Therefore, in this excercise, you are asked to fill your code where the comments state:**\n",
    "\n",
    "``#[Your code here]``\n",
    "\n",
    "**Please don't change the already given values in the examples ad\n",
    "\n",
    "**IMPORTANT!** \n",
    "- The code output should print the values that you use for discussion in the text of the answer, otherwise, we as graders cannot see the values from your simlation run in PDF.\n",
    "- Upon submitting the PDF notebook, please use the example simulation values already given in the questions. Of course, it is natural that you experiment with different code and simulation values before submission.\n",
    "\n",
    "Let’s get started."
   ]
  },
  {
   "cell_type": "markdown",
   "id": "e0b465f9",
   "metadata": {},
   "source": [
    "# 1. Create the Basic Agent/Model"
   ]
  },
  {
   "cell_type": "markdown",
   "id": "07ec3e99",
   "metadata": {},
   "source": [
    "## Setting up the model\n",
    "\n",
    "To begin writing the model code, we start with two core classes: one for\n",
    "the overall model, the other for the agents. The model class holds the\n",
    "model-level attributes, manages the agents, and generally handles the\n",
    "global level of our model. Each instantiation of the model class will be\n",
    "a specific model run. Each model will contain multiple agents, all of\n",
    "which are instantiations of the agent class. Both the model and agent\n",
    "classes are child classes of Mesa’s generic ``Model`` and ``Agent``\n",
    "classes.\n",
    "\n",
    "Now, let’s use a more advanced one: ``SimultaneousActivation``, which simulates the simultaneous activation of all the agents. This scheduler requires that each agent have two methods: ``step`` and ``advance``. step() activates the agent and stages any necessary changes, but does not apply them yet. advance() then applies the changes.\n",
    "\n",
    "### At the location ``# 1 Initialization [Your code here]`` you have to implement:\n",
    "\n",
    "Each agent has a few parameters:\n",
    "- engagement treshold - an agent's threshold for joining a riot is defined here as the proportion of the group he would have to see join before he would do so\n",
    "- decision_reached - has the agent observed the proportion above its treshold of other agents joining the riot (boolean)\n",
    "- engaged - has the agent joined the riot (boolean)\n",
    "\n",
    "(Each agent will also have a unique identifier (i.e., a sequence position), stored in the ``unique_id`` variable. Giving each agent a unique id is a good practice when doing agent-based modeling.)\n",
    "\n",
    "### At the location ``# 2 Step agent function [Your code here]`` you have to implement:\n",
    "\n",
    "- if the agent is `engaged` in a riot then no behavior is needed, agent is already rioting\n",
    "\n",
    "### At the location ``# 3 Proportion of these other agents joining the riot [Your code here]`` you have to implement:\n",
    "\n",
    "- get a list of all scheduled agents\n",
    "- calculate the proportion of these other agents joining the riot\n",
    "\n",
    "### At the location ``# 4 Binary decision [Your code here]`` you have to implement:\n",
    "\n",
    "- if the proportion of other agents joining the riot are above agent's treshold\n",
    "- set this agent to have observed the proportion above its treshold of other agents joining the riot\n",
    "\n",
    "### At the location ``# 5 Advance agent function [No coding necessary]``:\n",
    "\n",
    "- if the agent is `engaged` in a riot then no simultaneous behavior is needed, agent is already rioting\n",
    "- count up by 1 the number of rioting agents in the model\n",
    " \n",
    "### At the location ``# 6 Engage decided agents simultaneously [No coding necessary]``:\n",
    "\n",
    "- if the agent has already have observed the proportion above its treshold of other agents joining the riot\n",
    "- set the agent as `engaged` in the riot\n",
    "\n",
    "The beginning of both classes looks like this:"
   ]
  },
  {
   "cell_type": "code",
   "execution_count": 1,
   "id": "6b163960",
   "metadata": {},
   "outputs": [],
   "source": [
    "from mesa import Model, Agent\n",
    "from mesa.time import SimultaneousActivation"
   ]
  },
  {
   "cell_type": "code",
   "execution_count": 2,
   "id": "bcb39711",
   "metadata": {},
   "outputs": [],
   "source": [
    "class GranovetterAgentBasic(Agent):\n",
    "    \n",
    "    def __init__(self, unique_id, engagement_treshold, model):\n",
    "        '''\n",
    "         Create a new Granovetter agent.\n",
    "\n",
    "         Args:\n",
    "            unique_id: Unique identifier for the agent\n",
    "            engagement_treshold: An agent's threshold for joining a riot #3\n",
    "        '''\n",
    "        \n",
    "        super().__init__(unique_id, model)\n",
    "        \n",
    "        # 1 Initialization [Your code here]\n",
    "        self.unique_id = unique_id \n",
    "        self.engagement_treshold = engagement_treshold\n",
    "        self.decision_reached = False\n",
    "        self.engaged = False\n",
    "    \n",
    "    # agent step: 'rules' behavior when activated\n",
    "    def step(self):\n",
    "        '''\n",
    "        Run one step of the agent.\n",
    "        '''\n",
    "        # 2 Step agent function [Your code here] \n",
    "        # if agent already engaged, return\n",
    "        list_of_enganged_agents = []\n",
    "        \n",
    "        if self.engaged:\n",
    "            return\n",
    "        \n",
    "        # 3 Proportion of these other agents joining the riot [Your code here]\n",
    "        ## e.g. loop through agent, if rioting count =+ agent\n",
    "        ## total number, get proportion\n",
    "        for agent in model.schedule.agents:\n",
    "            if agent.engaged:\n",
    "                list_of_enganged_agents.append(agent)\n",
    "\n",
    "        proportion = len(list_of_enganged_agents)/len(model.schedule.agents)\n",
    "            \n",
    "        # 4 Binary decision [Your code here]\n",
    "        if proportion >= self.engagement_treshold:\n",
    "            self.decision_reached = True\n",
    "            \n",
    "    # agent advance: 'simultaneous' behavior when activated\n",
    "    def advance(self):\n",
    "        \n",
    "        # 5 Advance agent function\n",
    "        if self.engaged == True:\n",
    "            self.model.engaged += 1\n",
    "            return\n",
    "        # 6 Engage decided agents simultaneously\n",
    "        elif self.decision_reached == True:\n",
    "            self.model.engaged += 1\n",
    "            self.engaged = True\n"
   ]
  },
  {
   "cell_type": "markdown",
   "id": "e04e3e46",
   "metadata": {},
   "source": [
    "## Adding the scheduler\n",
    "\n",
    "Time in most agent-based models moves in steps, sometimes also called\n",
    "**ticks**. At each step of the model, one or more of the agents –\n",
    "usually all of them – are activated and take their own step, changing\n",
    "internally and/or interacting with one another or the environment.\n",
    "\n",
    "The **scheduler** is a special model component which controls the order\n",
    "in which agents are activated. For example, all the agents may activate\n",
    "in the same order every step; their order might be shuffled; we may try\n",
    "to simulate all the agents acting at the same time; and more. Mesa\n",
    "offers a few different built-in scheduler classes, with a common\n",
    "interface. That makes it easy to change the activation regime a given\n",
    "model uses, and see whether it changes the model behavior. This may not\n",
    "seem important, but scheduling patterns can have an impact on your\n",
    "results.\n",
    "\n",
    "Now, let’s use a more advanced one: ``SimultaneousActivation``, which simulates the simultaneous activation of all the agents. This scheduler requires that each agent have two methods: ``step`` and ``advance``. step() activates the agent and stages any necessary changes, but does not apply them yet. advance() then applies the changes.\n",
    "\n",
    "With that in mind, the model code with the scheduler added looks like\n",
    "this:"
   ]
  },
  {
   "cell_type": "markdown",
   "id": "61dc25a4",
   "metadata": {},
   "source": [
    "### At the location ``# 1 Initialization [Your code here]`` you have to implement:\n",
    "\n",
    "There are a number of model-level parameters. When a new model is started, we want it to populate itself\n",
    "with the given number of agents.\n",
    "\n",
    "- N - number of agents the model contains\n",
    "- mu - central tendency of the tresholds distribution\n",
    "- sigma - standard deviations of the tresholds distribution\n",
    "- set the model's `engaged` agents counter to zero at the start\n",
    "- set the `running` state variable to True\n",
    "- Use ``SimultaneousActivation`` scheduler\n",
    "\n",
    "### At the location ``# 2 Create agents [Your code here]`` you have to implement:\n",
    "\n",
    "- populate the model with the given number of agents in a loop\n",
    "- assign engagement rates based on normal distribution (make all negative rate values clip to zero) - **hint:** you can use already given `self.random.gauss()` method (remember that Mesa already gives us the `random` package through the `self.random` parameter)\n",
    "- add created agents to the scheduler\n",
    "\n",
    "When a new model is started, we want it to populate itself with the defined number of agents with engagement tresholds distributed normally around some central tendency with a given standard deviation."
   ]
  },
  {
   "cell_type": "code",
   "execution_count": 3,
   "id": "5c550f36",
   "metadata": {},
   "outputs": [],
   "source": [
    "class GranovetterModelBasic(Model):\n",
    "\n",
    "    def __init__(self, N, mu, sigma):\n",
    "        '''\n",
    "        Create a new Granovetter model.\n",
    "\n",
    "         Args:\n",
    "            N: how many agents the model contains\n",
    "            mu: central tendency of the tresholds distribution\n",
    "            sigma: standard deviations of the tresholds distribution\n",
    "        '''\n",
    "        \n",
    "        super().__init__()\n",
    "        \n",
    "        # 1 Initialization [Your code here]\n",
    "        \n",
    "        self.agent_counter = N\n",
    "        self.mu = mu\n",
    "        self.sigma = sigma\n",
    "        self.running = True\n",
    "        self.schedule = SimultaneousActivation(self)\n",
    "        self.engaged = False\n",
    "        unique_id = 1    \n",
    "        \n",
    "        # 2 Create agents [Your code here]\n",
    "        # not random activation but simultanious activiion\n",
    "        # time is random but no distance (doesnt matter if neighbor is rioting)\n",
    "\n",
    "        for i in range(N):\n",
    "        #Calc random threshold\n",
    "            threshold = self.random.gauss(mu, sigma)\n",
    "            if threshold < 0:\n",
    "                threshold = 0\n",
    "            elif threshold > 1:\n",
    "                threshold = 1\n",
    "            agent = GranovetterAgentBasic(unique_id, threshold, self)\n",
    "            unique_id += 1\n",
    "            self.schedule.add(agent)\n",
    "\n",
    "\n",
    "    def step(self):\n",
    "        '''\n",
    "        Run one step of the model. If All agents are happy, halt the model.\n",
    "        '''\n",
    "        \n",
    "        # 3 Step model function\n",
    "        \n",
    "        # Reset counter of engaged agents each model step\n",
    "        self.engaged = 0\n",
    "        self.schedule.step()\n",
    "        \n",
    "        # 4 Stop the model if all agents are engaged\n",
    "        if self.engaged == self.schedule.get_agent_count():\n",
    "            self.running = False"
   ]
  },
  {
   "cell_type": "markdown",
   "id": "c214bb5b",
   "metadata": {},
   "source": [
    "# 2. Run the Agent/Model Basic"
   ]
  },
  {
   "cell_type": "markdown",
   "id": "ff1ff063",
   "metadata": {},
   "source": [
    "### Running the model\n",
    "\n",
    "At this point, we have a model which runs. \n",
    "You can see for yourself with a few easy lines. If you’ve been working in an jupyter notebook session, you can create a model object directly. \n",
    "\n",
    "With that last piece in hand, it’s time for the first rudimentary run of the model.\n",
    "\n",
    "Now let’s create a model with 100 agents, and run it for 100 steps. Set the normal distribution of agent's engagement treshold to proposal. ``mu = 0.25`` and ``sigma = 0.1``."
   ]
  },
  {
   "cell_type": "markdown",
   "id": "1cd7303e",
   "metadata": {},
   "source": [
    "### At the location ``# < Add model parameters [Your code here]`` you have to implement:\n",
    "\n",
    "- specify all model-level parameters of its __init__ function\n",
    "- number of agents is given already as 100\n",
    "- specify: mu and sigma"
   ]
  },
  {
   "cell_type": "code",
   "execution_count": 4,
   "id": "ff72a10c",
   "metadata": {
    "scrolled": true
   },
   "outputs": [
    {
     "name": "stdout",
     "output_type": "stream",
     "text": [
      "The Schelling Model ran for 100 steps\n"
     ]
    }
   ],
   "source": [
    "model = GranovetterModelBasic(100, 0.25, 0.1)\n",
    "\n",
    "while model.running and model.schedule.steps < 100:\n",
    "    model.step()\n",
    "                            \n",
    "print('The Schelling Model ran for {} steps'.format(model.schedule.steps))"
   ]
  },
  {
   "cell_type": "markdown",
   "id": "2b5833d1",
   "metadata": {},
   "source": [
    "## Question 1\n",
    "\n",
    "It is possible to give a mathematically exact transformation from a frequency distribution of thresholds to an equilibrium value outcome.\n",
    "\n",
    "Run your Granovetter model till it converges (e.g., ``mu = 0.25``, ``sigma = 0.1`` and 100 steps should be enough) then observe the percentage of engaged agents ``r``. Now, sort the tresholds of all active agents and then sort the tresholds of all inactive agents. Calculate and verify the following two aspects of the equilibrium value outcome: \n",
    "\n",
    "1.1 Verify that F(r) is correct - proportion of the population having threshold less than or equal to the equilibrium value.\n",
    "\n",
    "1.2 Verify that ``r`` is correct - proportion of the population who have joined the riot.\n",
    "\n",
    "Put your code for answers 1.1 and 1.2 in the box below."
   ]
  },
  {
   "cell_type": "code",
   "execution_count": 5,
   "id": "d4f1dec2",
   "metadata": {},
   "outputs": [
    {
     "name": "stdout",
     "output_type": "stream",
     "text": [
      "Engaged Agents r: 1\n",
      "Unengaged Agents: 99\n",
      "Percentage Active: 0.01\n",
      "Engaged Agents Thresholds sorted: [0]\n",
      "Unengaged Agents Thresholds sorted: [0.03081381692264773, 0.05903838867078445, 0.0611632832965478, 0.07796283123349765, 0.08225307790319025, 0.08515665017954477, 0.08861510285308472, 0.0924214450691534, 0.10272173549405042, 0.1178449358398308, 0.12713035452525667, 0.1284899576574121, 0.13850150632162028, 0.14615587628986365, 0.15138438539445137, 0.15341799241959425, 0.15452650259623157, 0.1565516714533876, 0.1581354176770866, 0.16148163420579575, 0.16707472313566152, 0.16958276267534558, 0.16981730125005348, 0.17745842284700578, 0.18379303663453364, 0.18525407684433476, 0.1902506299398677, 0.19025725412410627, 0.19594327115202925, 0.19626168433573832, 0.1981062222011745, 0.19991349117901702, 0.20034283866748512, 0.20067674315803397, 0.2008240354344334, 0.2032604510456918, 0.20441627108700072, 0.20466442906148472, 0.20935143836844078, 0.21728586483912862, 0.21862052751525962, 0.21934003052897774, 0.2198342052824743, 0.22061513775394412, 0.22264384487426647, 0.22312749658778952, 0.22464783823371956, 0.23244579001669036, 0.2328532068373181, 0.23889487490144445, 0.2441337246297877, 0.24630106177526984, 0.2515310776713112, 0.25191443357344834, 0.2520796018294544, 0.2527510911519234, 0.25445433878695467, 0.2571374076507576, 0.26500264909424637, 0.27232629243214573, 0.27308851416515256, 0.2754422122088502, 0.27708265317962666, 0.2787663313241988, 0.28338327096211213, 0.28661430061796617, 0.2891392505834057, 0.29077908712980305, 0.29296623958445406, 0.29546363604966774, 0.29675282536952574, 0.30132755221171736, 0.30182776810337836, 0.3086735299430733, 0.310274221006398, 0.31266075268735644, 0.31274337636432814, 0.3142056115388065, 0.3171477502034991, 0.31835079569171953, 0.3208428194825039, 0.3210342956433628, 0.32776752865658776, 0.3291169909672077, 0.33477221728434786, 0.34041813690335565, 0.3423272839297569, 0.3468375278994035, 0.34814591022565544, 0.3507802420559591, 0.3545744213631962, 0.357683542863626, 0.3661205456629199, 0.36655233125664827, 0.3732472758863503, 0.374266449373812, 0.39246945241386433, 0.4245070220374635, 0.47284332193798617]\n",
      "1.1: percantage active 0.01 is smaller than mu = 0.25\n",
      "1.2 active agents are calculated using the lists of engaged and unengaged agents \n"
     ]
    }
   ],
   "source": [
    "# Answer 1.1 and 1.2 [Your code here]\n",
    "\n",
    "engaged_agents_threshold = []\n",
    "unengaged_agents_threshold = []\n",
    "\n",
    "for agent in model.schedule.agents:\n",
    "    if agent.engaged:\n",
    "        engaged_agents_threshold.append(agent.engagement_treshold)\n",
    "    else:\n",
    "        unengaged_agents_threshold.append(agent.engagement_treshold)\n",
    "\n",
    "number_agents = len(engaged_agents_threshold) + len(unengaged_agents_threshold)\n",
    "percentage_active = len(engaged_agents_threshold) / number_agents\n",
    "\n",
    "print(\"Engaged Agents r: \" + str(len(engaged_agents_threshold)))\n",
    "print(\"Unengaged Agents: \" + str(len(unengaged_agents_threshold)))\n",
    "\n",
    "print(\"Percentage Active: \" + str(percentage_active))\n",
    "\n",
    "print(\"Engaged Agents Thresholds sorted: \" + str(sorted(engaged_agents_threshold)))\n",
    "print(\"Unengaged Agents Thresholds sorted: \"  + str(sorted(unengaged_agents_threshold)))\n",
    "\n",
    "print(\"1.1: percantage active \" + str(percentage_active)  + \" is smaller than mu = 0.25\" )\n",
    "print(\"1.2 active agents are calculated using the lists of engaged and unengaged agents \")\n"
   ]
  },
  {
   "cell_type": "markdown",
   "id": "51962906",
   "metadata": {},
   "source": [
    "1.3. Do you find that ``r == F(r)``?\n",
    "\n",
    "1.4. How many agents get activated during the first step? Explain why it works like this?\n",
    "\n",
    "\n",
    "1.5. If we changed mu to be slightly higher, how would it affect the first step of the simulation?\n",
    "\n",
    "Answer in text below"
   ]
  },
  {
   "cell_type": "markdown",
   "id": "caf380fb",
   "metadata": {},
   "source": [
    "## Answer 1.3 and 1.4 and 1.5\n",
    "1.3\n",
    "the list of thresholds of unengaged agents shows that all of those values are above the engagement ratio, so no further people will be joining the riot and the equilibrum point is reached.\n",
    "Here, if we have engaged agents r of 1, the percentage is 1%, so r = f(r)\n",
    "\n",
    "as seen above the amount of people with a threshold below the engagement rate are the ones engaged and vice verca\n",
    "\n",
    "1.4. How many agents get activated during the first step? Explain why it works like this?\n",
    "\n",
    "All agents update their states concurrently, so they evaluate their engagement based on their thresholds. since the threshold of 0.25 is quite high, it takes time for the active percentage of agents to rise to also activate other agents.\n",
    "\n",
    "1.5. If we changed mu to be slightly higher, how would it affect the first step of the simulation?\n",
    "it would not affect the first stept but in the whole process going to take longer to include more active participants\n"
   ]
  },
  {
   "cell_type": "markdown",
   "id": "b182ac33",
   "metadata": {},
   "source": [
    "# 3. Collect data to Analyze the Agent/Model"
   ]
  },
  {
   "cell_type": "markdown",
   "id": "5e9a7d5a",
   "metadata": {},
   "source": [
    "### Collecting Data\n",
    "\n",
    "Since one of the main goals of agent-based modeling is generating data\n",
    "for analysis, Mesa provides a class which can handle data collection and\n",
    "storage for us and make it easier to analyze.\n",
    "\n",
    "The data collector stores three categories of data: model-level\n",
    "variables, agent-level variables, and tables (which are a catch-all for\n",
    "everything else). Model- and agent-level variables are added to the data\n",
    "collector along with a function for collecting them. Model-level\n",
    "collection functions take a model object as an input, while agent-level\n",
    "collection functions take an agent object as an input. Both then return\n",
    "a value computed from the model or each agent at their current state.\n",
    "When the data collector’s ``collect`` method is called, with a model\n",
    "object as its argument, it applies each model-level collection function\n",
    "to the model, and stores the results in a dictionary, associating the\n",
    "current value with the current step of the model. Similarly, the method\n",
    "applies each agent-level collection function to each agent currently in\n",
    "the schedule, associating the resulting value with the step of the\n",
    "model, and the agent’s ``unique_id``.\n",
    "\n",
    "Let’s add a DataCollector to the model, and collect two variables. At\n",
    "the agent level, we want to collect every agent’s engaged state at every step.\n",
    "At the model level, let’s measure the proportion of engaged agents at every step."
   ]
  },
  {
   "cell_type": "markdown",
   "id": "05d03993",
   "metadata": {},
   "source": [
    "### At the location ``# Analysis code for calculating proportion of engaged agents [Your code here]`` you have to implement:\n",
    "\n",
    "- calculate proportion of engaged agents over all agents\n",
    "\n",
    "### Agent code should be the same (copy your code from above)\n",
    "\n",
    "### Model code has a ``DataCollector`` step\n",
    "\n",
    "- note the use of ``DataCollector`` to collect the following model-level data:\n",
    "- model's engagement ratio\n",
    "- agent's ``engaged`` stats\n",
    "- ``collect`` data every model's ``step``"
   ]
  },
  {
   "cell_type": "code",
   "execution_count": 6,
   "id": "5ae5f756",
   "metadata": {},
   "outputs": [],
   "source": [
    "def get_engagement_ratio(model):\n",
    "    '''\n",
    "    Find the % of agents that are rioting.\n",
    "    '''\n",
    "    # Analysis code for calculating proportion of engaged agents [Your code here]\n",
    "    N = model.schedule.get_agent_count()\n",
    "    list_of_engaged_agents = []\n",
    "    for agent in model.schedule.agents:\n",
    "        \n",
    "        if agent.engaged:\n",
    "            list_of_engaged_agents.append(agent)\n",
    "\n",
    "    engagement_rate = (len(list_of_engaged_agents)/len(model.schedule.agents))\n",
    "    return engagement_rate"
   ]
  },
  {
   "cell_type": "code",
   "execution_count": 7,
   "id": "30cc716d",
   "metadata": {},
   "outputs": [],
   "source": [
    "class GranovetterAgentAnalysis(Agent):\n",
    "    \n",
    "    def __init__(self, unique_id, engagement_treshold, model):\n",
    "        '''\n",
    "         Create a new Granovetter agent.\n",
    "\n",
    "         Args:\n",
    "            unique_id: Unique identifier for the agent\n",
    "            engagement_treshold: An agent's threshold for joining a riot #3\n",
    "        '''\n",
    "        \n",
    "        super().__init__(unique_id, model)\n",
    "        \n",
    "        # 1 Initialization [Your code here]\n",
    "        self.unique_id = unique_id \n",
    "        self.engagement_treshold = engagement_treshold\n",
    "        self.decision_reached = False\n",
    "        self.engaged = False\n",
    "    \n",
    "    # agent step: 'rules' behavior when activated\n",
    "    def step(self):\n",
    "        '''\n",
    "        Run one step of the agent.\n",
    "        '''\n",
    "        # 2 Step agent function [Your code here] \n",
    "        # if agent already engaged, return\n",
    "        list_of_enganged_agents = []\n",
    "        \n",
    "        if self.engaged:\n",
    "            return\n",
    "        \n",
    "        # 3 Proportion of these other agents joining the riot [Your code here]\n",
    "        ## e.g. loop through agent, if rioting count =+ agent\n",
    "        ## total number, get proportion\n",
    "        for agent in model.schedule.agents:\n",
    "            if agent.engaged:\n",
    "                list_of_enganged_agents.append(agent)\n",
    "\n",
    "        proportion = len(list_of_enganged_agents)/len(model.schedule.agents)\n",
    "            \n",
    "        # 4 Binary decision [Your code here]\n",
    "        if proportion >= self.engagement_treshold:\n",
    "            self.decision_reached = True\n",
    "            \n",
    "    # agent advance: 'simultaneous' behavior when activated\n",
    "    def advance(self):\n",
    "        \n",
    "        # 5 Advance agent function\n",
    "        if self.engaged == True:\n",
    "            self.model.engaged += 1\n",
    "            return\n",
    "        # 6 Engage decided agents simultaneously\n",
    "        elif self.decision_reached == True:\n",
    "            self.model.engaged += 1\n",
    "            self.engaged = True\n"
   ]
  },
  {
   "cell_type": "code",
   "execution_count": 8,
   "id": "86898bc3",
   "metadata": {},
   "outputs": [],
   "source": [
    "from mesa.datacollection import DataCollector\n",
    "\n",
    "class GranovetterModelAnalysis(Model):\n",
    "\n",
    "    def __init__(self, N, mu, sigma):\n",
    "        '''\n",
    "        Create a new Granovetter model.\n",
    "\n",
    "         Args:\n",
    "            N: how many agents the model contains\n",
    "            mu: central tendency of the tresholds distribution\n",
    "            sigma: standard deviations of the tresholds distribution\n",
    "        '''\n",
    "        \n",
    "        super().__init__()\n",
    "        \n",
    "        # 1 Initialization [Your code here]\n",
    "        \n",
    "        self.agent_counter = N\n",
    "        self.mu = mu\n",
    "        self.sigma = sigma\n",
    "        self.running = True\n",
    "        self.schedule = SimultaneousActivation(self)\n",
    "        self.engaged = 0 ########\n",
    "        unique_id = 1    \n",
    "        \n",
    "        self.datacollector = DataCollector( # < Note that we have both an agent and model data collector\n",
    "            model_reporters={\"engagement_ratio\": get_engagement_ratio}, agent_reporters={\"engaged\": \"engaged\"}\n",
    "        )\n",
    "        self.running = True\n",
    "\n",
    "\n",
    "        # 2 Create agents [Your code here]\n",
    "        # not random activation but simultanious activiion\n",
    "        # time is random but no distance (doesnt matter if neighbor is rioting)\n",
    "\n",
    "        for i in range(N):\n",
    "        #Calc random threshold\n",
    "            threshold = self.random.gauss(mu, sigma)\n",
    "            if threshold < 0:\n",
    "                threshold = 0\n",
    "\n",
    "            agent = GranovetterAgentAnalysis(unique_id, threshold, self)\n",
    "            unique_id += 1\n",
    "            self.schedule.add(agent)\n",
    "\n",
    "\n",
    "    def step(self):\n",
    "        '''\n",
    "        Run one step of the model. If All agents are happy, halt the model.\n",
    "        '''\n",
    "        \n",
    "        # 3 Step model function\n",
    "        \n",
    "        # Reset counter of engaged agents each model step\n",
    "        self.engaged = 0\n",
    "        self.datacollector.collect(self)\n",
    "\n",
    "        self.schedule.step()\n",
    "        \n",
    "        # 4 Stop the model if all agents are engaged\n",
    "        if self.engaged == self.schedule.get_agent_count():\n",
    "            self.running = False"
   ]
  },
  {
   "cell_type": "markdown",
   "id": "ae59abfb",
   "metadata": {},
   "source": [
    "### Running the model\n",
    "\n",
    "We run the model just as we did above. Now is when an interactive\n",
    "session, especially via a Notebook, comes in handy: the DataCollector\n",
    "can export the data it’s collected as a pandas DataFrame, for easy\n",
    "interactive analysis.\n",
    "\n",
    "Now we instantiate a model instance: 100 agents, with normal distribution of agent's engagement treshold to ``mu = 0.25`` and ``sigma = 0.122``. Run the model for 100 steps.\n",
    "\n",
    "We want to run the model until all the agents are rioting. However, there's no guarentee that a given model instantiation will *ever* settle down. So let's run it for either 100 steps or until it stops on its own, whichever comes first:"
   ]
  },
  {
   "cell_type": "markdown",
   "id": "1fd1e32e",
   "metadata": {},
   "source": [
    "### At the location ``# < Add model parameters [Your code here]`` you have to implement:\n",
    "\n",
    "- specify all model-level parameters of its __init__ function\n",
    "- number of agents is given already as 100\n",
    "- specify: mu and sigma"
   ]
  },
  {
   "cell_type": "code",
   "execution_count": 9,
   "id": "df714e58",
   "metadata": {},
   "outputs": [
    {
     "name": "stdout",
     "output_type": "stream",
     "text": [
      "The Schelling Model ran for 100 steps\n"
     ]
    }
   ],
   "source": [
    "model_analysis = GranovetterModelAnalysis(100, 0.25, 0.1)\n",
    "\n",
    "while model_analysis.running and model_analysis.schedule.steps < 100:\n",
    "    model_analysis.step()\n",
    "                            \n",
    "print('The Schelling Model ran for {} steps'.format(model_analysis.schedule.steps))\n",
    "model_analysis.datacollector.collect(model_analysis)"
   ]
  },
  {
   "cell_type": "code",
   "execution_count": 15,
   "id": "7116c10e",
   "metadata": {},
   "outputs": [
    {
     "name": "stdout",
     "output_type": "stream",
     "text": [
      "Engaged Agents r: 0\n",
      "Unengaged Agents: 100\n",
      "Percentage Active: 0.0\n",
      "Engaged Agents Thresholds sorted: []\n",
      "Unengaged Agents Thresholds sorted: [0.0835836117052014, 0.09980207663780455, 0.10240141439035769, 0.10987722076611303, 0.11728625158016093, 0.11772158844352401, 0.12582157494751228, 0.1323004318226954, 0.1326251805679772, 0.1333034733540165, 0.13522208033374747, 0.13756866652067373, 0.14031326267482666, 0.14719036792921292, 0.14941640069643686, 0.15350825158702924, 0.15744337304930017, 0.15897527756016638, 0.15994572757301748, 0.1741414894912827, 0.18079981848765975, 0.18294280765846038, 0.18699914909751802, 0.1897563387673551, 0.1938520277705451, 0.19637513920225136, 0.20082705047955332, 0.2052267213215352, 0.20918357011744973, 0.20934895013947014, 0.21493820789940463, 0.21749501258775444, 0.2211467129651627, 0.225161880262342, 0.22807657236688245, 0.22858106696301891, 0.23030647457609055, 0.23842418434991022, 0.24111479259369892, 0.24147909173517956, 0.24177982032014847, 0.24242432455590793, 0.2464284427059208, 0.25097728731833396, 0.2540068890927981, 0.2543977851586495, 0.2574452525477111, 0.2584853132966765, 0.2589643424879297, 0.2591663351746667, 0.25966626907311274, 0.2601510066759208, 0.26258764122756306, 0.26490186159870766, 0.26625398398948796, 0.26849879948348676, 0.27274581478860194, 0.2833779040090131, 0.2867158489163636, 0.2886755078954013, 0.2902818133786497, 0.2915293561303764, 0.29163863163719544, 0.2954201467931907, 0.29908614134777795, 0.30447908686854414, 0.30521817061866174, 0.3107208809374996, 0.31451600623854387, 0.3153296038951756, 0.32005802110684267, 0.3228986134053464, 0.32304859279685005, 0.3231889935876614, 0.327004380042317, 0.33091396106056725, 0.3459965255981369, 0.3495243712604327, 0.3501302307775356, 0.35165333797768367, 0.3547652595839409, 0.35591921129680937, 0.36031290594212184, 0.36311446877931575, 0.36521515966207607, 0.36877238465983, 0.37294037738687535, 0.3736102147016308, 0.3771731776484889, 0.3787200728701683, 0.3814588133407489, 0.3875991355589033, 0.38898187431412623, 0.3894372650141643, 0.40082773609892064, 0.4208926442905213, 0.4246641290409334, 0.4469004255147395, 0.44697942803313, 0.4496364302863215]\n",
      "1.1: percantage active 0.0 is smaller than mu = 0.25\n",
      "1.2 active agents are calculated using the lists of engaged and unengaged agents \n"
     ]
    }
   ],
   "source": [
    "# Answer 1.1 and 1.2 [Your code here]\n",
    "\n",
    "engaged_agents_threshold = []\n",
    "unengaged_agents_threshold = []\n",
    "\n",
    "for agent in model_analysis.schedule.agents:\n",
    "    if agent.engaged:\n",
    "        engaged_agents_threshold.append(agent.engagement_treshold)\n",
    "    else:\n",
    "        unengaged_agents_threshold.append(agent.engagement_treshold)\n",
    "\n",
    "number_agents = len(engaged_agents_threshold) + len(unengaged_agents_threshold)\n",
    "percentage_active = len(engaged_agents_threshold) / number_agents\n",
    "\n",
    "print(\"Engaged Agents r: \" + str(len(engaged_agents_threshold)))\n",
    "print(\"Unengaged Agents: \" + str(len(unengaged_agents_threshold)))\n",
    "\n",
    "print(\"Percentage Active: \" + str(percentage_active))\n",
    "\n",
    "print(\"Engaged Agents Thresholds sorted: \" + str(sorted(engaged_agents_threshold)))\n",
    "print(\"Unengaged Agents Thresholds sorted: \"  + str(sorted(unengaged_agents_threshold)))\n",
    "\n",
    "print(\"1.1: percantage active \" + str(percentage_active)  + \" is smaller than mu = 0.25\" )\n",
    "print(\"1.2 active agents are calculated using the lists of engaged and unengaged agents \")"
   ]
  },
  {
   "cell_type": "markdown",
   "id": "a9e9791e",
   "metadata": {},
   "source": [
    "# 4. Run the Agent/Model Analysis"
   ]
  },
  {
   "cell_type": "markdown",
   "id": "aa6c025e",
   "metadata": {},
   "source": [
    "Now we can get the agent-engagement data:"
   ]
  },
  {
   "cell_type": "markdown",
   "id": "ccca2460",
   "metadata": {},
   "source": [
    "**It is always a good practice to validate (debug) your model with visualizing agents behavior.**\n",
    "\n",
    "### At the location ``Create a plot for the engagement state of a single agent over the model steps [Your code here]`` you have to implement:\n",
    "\n",
    "- filter the data to select only one agent - using Pandas .xs method\n",
    "- plot the ``engaged`` state of that agent data you have collected"
   ]
  },
  {
   "cell_type": "code",
   "execution_count": 16,
   "id": "7404dedc",
   "metadata": {},
   "outputs": [
    {
     "data": {
      "text/html": [
       "<div>\n",
       "<style scoped>\n",
       "    .dataframe tbody tr th:only-of-type {\n",
       "        vertical-align: middle;\n",
       "    }\n",
       "\n",
       "    .dataframe tbody tr th {\n",
       "        vertical-align: top;\n",
       "    }\n",
       "\n",
       "    .dataframe thead th {\n",
       "        text-align: right;\n",
       "    }\n",
       "</style>\n",
       "<table border=\"1\" class=\"dataframe\">\n",
       "  <thead>\n",
       "    <tr style=\"text-align: right;\">\n",
       "      <th></th>\n",
       "      <th></th>\n",
       "      <th>engaged</th>\n",
       "    </tr>\n",
       "    <tr>\n",
       "      <th>Step</th>\n",
       "      <th>AgentID</th>\n",
       "      <th></th>\n",
       "    </tr>\n",
       "  </thead>\n",
       "  <tbody>\n",
       "    <tr>\n",
       "      <th rowspan=\"5\" valign=\"top\">0</th>\n",
       "      <th>1</th>\n",
       "      <td>0</td>\n",
       "    </tr>\n",
       "    <tr>\n",
       "      <th>2</th>\n",
       "      <td>0</td>\n",
       "    </tr>\n",
       "    <tr>\n",
       "      <th>3</th>\n",
       "      <td>0</td>\n",
       "    </tr>\n",
       "    <tr>\n",
       "      <th>4</th>\n",
       "      <td>0</td>\n",
       "    </tr>\n",
       "    <tr>\n",
       "      <th>5</th>\n",
       "      <td>0</td>\n",
       "    </tr>\n",
       "  </tbody>\n",
       "</table>\n",
       "</div>"
      ],
      "text/plain": [
       "              engaged\n",
       "Step AgentID         \n",
       "0    1              0\n",
       "     2              0\n",
       "     3              0\n",
       "     4              0\n",
       "     5              0"
      ]
     },
     "execution_count": 16,
     "metadata": {},
     "output_type": "execute_result"
    }
   ],
   "source": [
    "import pandas as pd\n",
    "\n",
    "agent_out = model_analysis.datacollector.get_agent_vars_dataframe()\n",
    "agent_out['engaged'] = agent_out['engaged'].astype(int)\n",
    "agent_out.head()\n"
   ]
  },
  {
   "cell_type": "code",
   "execution_count": 17,
   "id": "2d90ecb2",
   "metadata": {},
   "outputs": [
    {
     "data": {
      "text/plain": [
       "<Axes: xlabel='Step'>"
      ]
     },
     "execution_count": 17,
     "metadata": {},
     "output_type": "execute_result"
    },
    {
     "data": {
      "image/png": "[encoded data removed]",
      "text/plain": [
       "<Figure size 640x480 with 1 Axes>"
      ]
     },
     "metadata": {},
     "output_type": "display_data"
    }
   ],
   "source": [
    "\n",
    "agent_out.xs(1, level = \"AgentID\").engaged.astype(int).plot()"
   ]
  },
  {
   "cell_type": "markdown",
   "id": "a5b15cb6",
   "metadata": {},
   "source": [
    "Similarly, we can get the model-engagement ratio data.\n",
    "\n",
    "You’ll see that the DataFrame’s index is pairings of model step and agent ID. You can analyze it the way you would any other DataFrame."
   ]
  },
  {
   "cell_type": "markdown",
   "id": "ada4d90d",
   "metadata": {},
   "source": [
    "### At the location ``# Create a plot for the proportion of all engaged agents over the model steps [Your code here]`` you have to implement:\n",
    "\n",
    "- plot the ``engagement_ratio`` data you have collected"
   ]
  },
  {
   "cell_type": "code",
   "execution_count": 18,
   "id": "95567016",
   "metadata": {},
   "outputs": [
    {
     "data": {
      "text/html": [
       "<div>\n",
       "<style scoped>\n",
       "    .dataframe tbody tr th:only-of-type {\n",
       "        vertical-align: middle;\n",
       "    }\n",
       "\n",
       "    .dataframe tbody tr th {\n",
       "        vertical-align: top;\n",
       "    }\n",
       "\n",
       "    .dataframe thead th {\n",
       "        text-align: right;\n",
       "    }\n",
       "</style>\n",
       "<table border=\"1\" class=\"dataframe\">\n",
       "  <thead>\n",
       "    <tr style=\"text-align: right;\">\n",
       "      <th></th>\n",
       "      <th>engagement_ratio</th>\n",
       "    </tr>\n",
       "  </thead>\n",
       "  <tbody>\n",
       "    <tr>\n",
       "      <th>0</th>\n",
       "      <td>0.0</td>\n",
       "    </tr>\n",
       "    <tr>\n",
       "      <th>1</th>\n",
       "      <td>0.0</td>\n",
       "    </tr>\n",
       "    <tr>\n",
       "      <th>2</th>\n",
       "      <td>0.0</td>\n",
       "    </tr>\n",
       "    <tr>\n",
       "      <th>3</th>\n",
       "      <td>0.0</td>\n",
       "    </tr>\n",
       "    <tr>\n",
       "      <th>4</th>\n",
       "      <td>0.0</td>\n",
       "    </tr>\n",
       "  </tbody>\n",
       "</table>\n",
       "</div>"
      ],
      "text/plain": [
       "   engagement_ratio\n",
       "0               0.0\n",
       "1               0.0\n",
       "2               0.0\n",
       "3               0.0\n",
       "4               0.0"
      ]
     },
     "execution_count": 18,
     "metadata": {},
     "output_type": "execute_result"
    }
   ],
   "source": [
    "model_out = model_analysis.datacollector.get_model_vars_dataframe()\n",
    "model_out.head()"
   ]
  },
  {
   "cell_type": "code",
   "execution_count": 19,
   "id": "a92aa0ed",
   "metadata": {},
   "outputs": [
    {
     "data": {
      "text/plain": [
       "<Axes: >"
      ]
     },
     "execution_count": 19,
     "metadata": {},
     "output_type": "execute_result"
    },
    {
     "data": {
      "image/png": "[encoded data removed]",
      "text/plain": [
       "<Figure size 640x480 with 1 Axes>"
      ]
     },
     "metadata": {},
     "output_type": "display_data"
    }
   ],
   "source": [
    "# Create a plot for the proportion of all engaged agents over the model steps [Your code here]\n",
    "model_out.engagement_ratio.plot()"
   ]
  },
  {
   "cell_type": "markdown",
   "id": "0e1fcc7a",
   "metadata": {},
   "source": [
    "## Question 2\n",
    "\n",
    "2.1 Plot 2 gaussian distributions (they don't need to be related to the rest of this notebook) with different sigma levels but same mean.\n",
    "\n",
    "In previous steps you have analysed the Granovetter's model analysis for a low sigma (standard deviation) of engagement tresholds (e.g., ``sigma = 0.1``).\n",
    "\n",
    "2.2 Now re-run the analysis for a high sigma value (e.g., ``sigma = 0.2``) and once again plot the proportion of engaged agents over the model steps. Now observe the difference in proportion of engaged agents over all agents.\n",
    "\n",
    "Put your code for the answer 2.1 and 2.2 in the box below."
   ]
  },
  {
   "cell_type": "code",
   "execution_count": 20,
   "id": "d014984e",
   "metadata": {},
   "outputs": [
    {
     "data": {
      "image/png": "[encoded data removed]",
      "text/plain": [
       "<Figure size 640x480 with 1 Axes>"
      ]
     },
     "metadata": {},
     "output_type": "display_data"
    }
   ],
   "source": [
    "import numpy as np\n",
    "import matplotlib.pyplot as plt\n",
    "from scipy.stats import norm\n",
    "\n",
    "mu = 0\n",
    "sigma1 = 2  \n",
    "sigma2 = 0.5 \n",
    "x = np.linspace(-10, 10, 1000) \n",
    "\n",
    "dist1 = norm(loc=mu, scale=sigma1)\n",
    "dist2 = norm(loc=mu, scale=sigma2)\n",
    "pdf1 = dist1.pdf(x)\n",
    "pdf2 = dist2.pdf(x)\n",
    "\n",
    "plt.plot(x, pdf1, color='blue', label='Sigma = 1')\n",
    "plt.plot(x, pdf2, color='red', label='Sigma = 0.5')\n",
    "plt.xlabel('Value')\n",
    "plt.ylabel('Density')\n",
    "plt.title('Answer 2.1: Two different gaussian distributions')\n",
    "plt.show()\n"
   ]
  },
  {
   "cell_type": "markdown",
   "id": "d0c9dd63",
   "metadata": {},
   "source": [
    "2.2: First i print again the proportion over steps for sigma = 0.1"
   ]
  },
  {
   "cell_type": "code",
   "execution_count": 21,
   "id": "ee50b846",
   "metadata": {},
   "outputs": [
    {
     "name": "stdout",
     "output_type": "stream",
     "text": [
      "The Schelling Model ran for 100 steps\n"
     ]
    },
    {
     "data": {
      "text/plain": [
       "<Axes: >"
      ]
     },
     "execution_count": 21,
     "metadata": {},
     "output_type": "execute_result"
    },
    {
     "data": {
      "image/png": "[encoded data removed]",
      "text/plain": [
       "<Figure size 640x480 with 1 Axes>"
      ]
     },
     "metadata": {},
     "output_type": "display_data"
    }
   ],
   "source": [
    "model_analysis = GranovetterModelAnalysis(100, 0.25, 0.1)\n",
    "\n",
    "while model_analysis.running and model_analysis.schedule.steps < 100:\n",
    "    model_analysis.step()\n",
    "                            \n",
    "print('The Schelling Model ran for {} steps'.format(model_analysis.schedule.steps))\n",
    "model_analysis.datacollector.collect(model_analysis)\n",
    "model_out = model_analysis.datacollector.get_model_vars_dataframe()\n",
    "model_out.engagement_ratio.plot()"
   ]
  },
  {
   "cell_type": "code",
   "execution_count": 22,
   "id": "f1569a7c",
   "metadata": {},
   "outputs": [
    {
     "name": "stdout",
     "output_type": "stream",
     "text": [
      "The Schelling Model ran for 100 steps\n"
     ]
    },
    {
     "data": {
      "text/plain": [
       "<Axes: >"
      ]
     },
     "execution_count": 22,
     "metadata": {},
     "output_type": "execute_result"
    },
    {
     "data": {
      "image/png": "[encoded data removed]",
      "text/plain": [
       "<Figure size 640x480 with 1 Axes>"
      ]
     },
     "metadata": {},
     "output_type": "display_data"
    }
   ],
   "source": [
    "model_analysis = GranovetterModelAnalysis(100, 0.25, 0.2)\n",
    "\n",
    "while model_analysis.running and model_analysis.schedule.steps < 100:\n",
    "    model_analysis.step()\n",
    "                            \n",
    "print('The Schelling Model ran for {} steps'.format(model_analysis.schedule.steps))\n",
    "model_analysis.datacollector.collect(model_analysis)\n",
    "model_out = model_analysis.datacollector.get_model_vars_dataframe()\n",
    "model_out.engagement_ratio.plot()"
   ]
  },
  {
   "cell_type": "markdown",
   "id": "a87f8390",
   "metadata": {},
   "source": [
    "2.3 Qualitatively describe what is this difference between these two outcomes and why?\n",
    "\n",
    "2.4 Describe how this changing of sigma relates to precursors(early adopters) and laggards(late adopters).\n",
    "\n",
    "Answer in text below"
   ]
  },
  {
   "cell_type": "markdown",
   "id": "2f97f68a",
   "metadata": {},
   "source": [
    "## Answer 2.3 and 2.4\n",
    "2.3\n",
    "With higher standard deviation comes higher difference in personal agent´s thresholds. If the standard deviation is higher this can lead to larger changes in the participation since the thresholds are affected by the standard deviations and can thus lead to more or different activation patterns. E.g. there could be more lower thresholds and thus more people participating, and also more people with higher standrad deviations which might be never activated. \n",
    "in our case above, with lower deviation comes lower engagement ratio and vice verca, since thresholds might be more widely distributed.\n",
    "\n",
    "2.4.\n",
    "with higher sigma there can be both of more extremes existing - so more early adopters and more laggards due to more widespread distribution. those can influence the spread of engagement, since more early adopter could help the engagement to spread and thus a higher engagement ratio. Laggards are less influenced by the behavior of others and join only if the riot is already widely spread, so they make the full participation less likely - in opposition to precursors"
   ]
  },
  {
   "cell_type": "markdown",
   "id": "92a5e202",
   "metadata": {},
   "source": [
    "# 5. Create iteration Batch of the Agent/Model"
   ]
  },
  {
   "cell_type": "markdown",
   "id": "5d65cad7",
   "metadata": {},
   "source": [
    "### Batch Run\n",
    "\n",
    "Like we mentioned above, you usually won’t run a model only once, but\n",
    "multiple times, with fixed parameters to find the overall distributions\n",
    "the model generates, and with varying parameters to analyze how they\n",
    "drive the model’s outputs and behaviors. Instead of needing to write\n",
    "nested for-loops for each model, Mesa provides a ``batch_run`` function\n",
    "which automates it for you.\n",
    "\n",
    "The batch runner also requires an additional variable ``self.running``\n",
    "for the Model class. This variable enables conditional shut off of\n",
    "the model once a condition is met."
   ]
  },
  {
   "cell_type": "markdown",
   "id": "05a89bb2",
   "metadata": {},
   "source": [
    "### At the location ``# < Add model parameters [Your code here]`` you have to implement:\n",
    "\n",
    "- specify all model-level parameters of its __init__ function\n",
    "- number of agents is given already as 100\n",
    "- specify: ``mu = 0.25`` and ``sigma as [0.0, 1.0, equally spaced 11 values]``\n",
    "\n",
    "**Hint**: Instead of using python's ``range()`` method that returns integer values, you can use ``linspace()`` method from the ``numpy`` lbrary as follows:\n",
    "\n",
    "``\n",
    "import numpy as np\n",
    "np.linspace(0,1,11)\n",
    "``"
   ]
  },
  {
   "cell_type": "code",
   "execution_count": 23,
   "id": "8e4e8362",
   "metadata": {},
   "outputs": [],
   "source": [
    "import numpy as np\n",
    "params = {\"N\": 100, \"mu\": 0.25, \"sigma\": np.linspace(0,1,11)} "
   ]
  },
  {
   "cell_type": "markdown",
   "id": "b1e897e3",
   "metadata": {},
   "source": [
    "###### 8. Run the Agent/Model Batch"
   ]
  },
  {
   "cell_type": "markdown",
   "id": "a7d14019",
   "metadata": {},
   "source": [
    "### Running the model\n",
    "\n",
    "We call ``batch_run`` with the following arguments:\n",
    "\n",
    "* ``model_cls``\n",
    "\n",
    "  The model class that is used for the batch run.\n",
    "\n",
    "* ``parameters``\n",
    "\n",
    "  A dictionary containing all the parameters of the model class and\n",
    "  desired values to use for the batch run as key-value pairs. Each\n",
    "  value can either be fixed ( e.g. ``{\"height\": 10, \"width\": 10}``)\n",
    "  or an iterable (e.g. ``{\"homophily\": range(0,100, 13)}``). ``batch_run``\n",
    "  will then generate all possible parameter combinations based on this\n",
    "  dictionary and run the model ``iterations`` times for each combination.\n",
    "\n",
    "* ``number_processes``\n",
    "\n",
    "  Number of processors used to run the sweep in parallel. Optional.\n",
    "  If not specified, defaults to use all the available processors.\n",
    "\n",
    "  Note: Multiprocessing does make debugging challenging. If your\n",
    "  parameter sweeps are resulting in unexpected errors set ``number_processes = 1``.\n",
    "  \n",
    "  Also, if your batcher is stuck and is not running for some reason, try also setting ``number_processes = 1``, since this issue might also be related to multiprocessing issues.\n",
    "\n",
    "* ``iterations``\n",
    "\n",
    "  The number of iterations to run each parameter combination for. Optional.\n",
    "  If not specified, defaults to 1.\n",
    "\n",
    "* ``data_collection_period``\n",
    "\n",
    "  The length of the period (number of steps) after which the model and\n",
    "  agent reporters collect data. Optional. If not specified, defaults to -1,\n",
    "  i.e. only at the end of each episode.\n",
    "\n",
    "* ``max_steps``\n",
    "\n",
    "  The maximum number of time steps after which the model halts. An episode\n",
    "  does either end when ``self.running`` of the model class is set to\n",
    "  ``False`` or when ``model.schedule.steps == max_steps`` is reached.\n",
    "  Optional. If not specified, defaults to 1000.\n",
    "\n",
    "* ``display_progress``\n",
    "\n",
    "  Display the batch run progress. Optional. If not specified, defaults to ``True``.\n",
    "\n",
    "In the following example, we hold the height and width fixed, and vary\n",
    "the homophily treshold of agents. We tell the batch runner to run 10 instantiations\n",
    "of the model with each number of agents, and to run each for 200 steps.\n",
    "\n",
    "At the last step of the model (i.e., `data_collection_period=-1`), the datacollector will collect and store the model-level proportion of engaged agents, as well as each agent’s engaged state, associating each with the last step."
   ]
  },
  {
   "cell_type": "code",
   "execution_count": 24,
   "id": "417ca04b",
   "metadata": {},
   "outputs": [
    {
     "data": {
      "application/vnd.jupyter.widget-view+json": {
       "model_id": "4ecc52d6edd642d8aab0d05e3216567b",
       "version_major": 2,
       "version_minor": 0
      },
      "text/plain": [
       "  0%|          | 0/110 [00:00<?, ?it/s]"
      ]
     },
     "metadata": {},
     "output_type": "display_data"
    }
   ],
   "source": [
    "# If your batcher is stuck and is not running for some reason, try setting number_processes = 1\n",
    "\n",
    "from mesa.batchrunner import batch_run\n",
    "\n",
    "results = batch_run(\n",
    "    GranovetterModelAnalysis,\n",
    "    parameters=params,\n",
    "    iterations=10,\n",
    "    max_steps=100,\n",
    "    number_processes=1,\n",
    "    data_collection_period=-1,\n",
    "    display_progress=True,\n",
    ")"
   ]
  },
  {
   "cell_type": "markdown",
   "id": "c3e414a4",
   "metadata": {},
   "source": [
    "# 6. Run the Batch data Analysis"
   ]
  },
  {
   "cell_type": "markdown",
   "id": "6a670538",
   "metadata": {},
   "source": [
    "### Data visualization\n",
    "\n",
    "First, we want to take a closer look at how the engagement ratio at the end of each episode changes as we increase the standard deviation (sigma) of the engagement tresholds distribution.\n",
    "For this, we group our data on the ``RunId`` identifier and get a single value per ``RunId`` using a median.\n",
    "Our results to only contain the data of engagement ratio for the entire population at the final step of each episode and then box-plot the values for the engagement ratio over the standard deviation of engagement tresholds.\n",
    "Notice there are 10 values for each sigma value since we set ``iterations=10`` when calling the batch run."
   ]
  },
  {
   "cell_type": "code",
   "execution_count": 33,
   "id": "77666a1a",
   "metadata": {},
   "outputs": [
    {
     "data": {
      "text/html": [
       "<div>\n",
       "<style scoped>\n",
       "    .dataframe tbody tr th:only-of-type {\n",
       "        vertical-align: middle;\n",
       "    }\n",
       "\n",
       "    .dataframe tbody tr th {\n",
       "        vertical-align: top;\n",
       "    }\n",
       "\n",
       "    .dataframe thead th {\n",
       "        text-align: right;\n",
       "    }\n",
       "</style>\n",
       "<table border=\"1\" class=\"dataframe\">\n",
       "  <thead>\n",
       "    <tr style=\"text-align: right;\">\n",
       "      <th></th>\n",
       "      <th>RunId</th>\n",
       "      <th>iteration</th>\n",
       "      <th>Step</th>\n",
       "      <th>N</th>\n",
       "      <th>mu</th>\n",
       "      <th>sigma</th>\n",
       "      <th>engagement_ratio</th>\n",
       "      <th>AgentID</th>\n",
       "      <th>engaged</th>\n",
       "    </tr>\n",
       "  </thead>\n",
       "  <tbody>\n",
       "    <tr>\n",
       "      <th>0</th>\n",
       "      <td>0</td>\n",
       "      <td>0</td>\n",
       "      <td>100</td>\n",
       "      <td>100</td>\n",
       "      <td>0.25</td>\n",
       "      <td>0.0</td>\n",
       "      <td>0.0</td>\n",
       "      <td>1</td>\n",
       "      <td>False</td>\n",
       "    </tr>\n",
       "    <tr>\n",
       "      <th>1</th>\n",
       "      <td>0</td>\n",
       "      <td>0</td>\n",
       "      <td>100</td>\n",
       "      <td>100</td>\n",
       "      <td>0.25</td>\n",
       "      <td>0.0</td>\n",
       "      <td>0.0</td>\n",
       "      <td>2</td>\n",
       "      <td>False</td>\n",
       "    </tr>\n",
       "    <tr>\n",
       "      <th>2</th>\n",
       "      <td>0</td>\n",
       "      <td>0</td>\n",
       "      <td>100</td>\n",
       "      <td>100</td>\n",
       "      <td>0.25</td>\n",
       "      <td>0.0</td>\n",
       "      <td>0.0</td>\n",
       "      <td>3</td>\n",
       "      <td>False</td>\n",
       "    </tr>\n",
       "    <tr>\n",
       "      <th>3</th>\n",
       "      <td>0</td>\n",
       "      <td>0</td>\n",
       "      <td>100</td>\n",
       "      <td>100</td>\n",
       "      <td>0.25</td>\n",
       "      <td>0.0</td>\n",
       "      <td>0.0</td>\n",
       "      <td>4</td>\n",
       "      <td>False</td>\n",
       "    </tr>\n",
       "    <tr>\n",
       "      <th>4</th>\n",
       "      <td>0</td>\n",
       "      <td>0</td>\n",
       "      <td>100</td>\n",
       "      <td>100</td>\n",
       "      <td>0.25</td>\n",
       "      <td>0.0</td>\n",
       "      <td>0.0</td>\n",
       "      <td>5</td>\n",
       "      <td>False</td>\n",
       "    </tr>\n",
       "    <tr>\n",
       "      <th>5</th>\n",
       "      <td>0</td>\n",
       "      <td>0</td>\n",
       "      <td>100</td>\n",
       "      <td>100</td>\n",
       "      <td>0.25</td>\n",
       "      <td>0.0</td>\n",
       "      <td>0.0</td>\n",
       "      <td>6</td>\n",
       "      <td>False</td>\n",
       "    </tr>\n",
       "    <tr>\n",
       "      <th>6</th>\n",
       "      <td>0</td>\n",
       "      <td>0</td>\n",
       "      <td>100</td>\n",
       "      <td>100</td>\n",
       "      <td>0.25</td>\n",
       "      <td>0.0</td>\n",
       "      <td>0.0</td>\n",
       "      <td>7</td>\n",
       "      <td>False</td>\n",
       "    </tr>\n",
       "    <tr>\n",
       "      <th>7</th>\n",
       "      <td>0</td>\n",
       "      <td>0</td>\n",
       "      <td>100</td>\n",
       "      <td>100</td>\n",
       "      <td>0.25</td>\n",
       "      <td>0.0</td>\n",
       "      <td>0.0</td>\n",
       "      <td>8</td>\n",
       "      <td>False</td>\n",
       "    </tr>\n",
       "    <tr>\n",
       "      <th>8</th>\n",
       "      <td>0</td>\n",
       "      <td>0</td>\n",
       "      <td>100</td>\n",
       "      <td>100</td>\n",
       "      <td>0.25</td>\n",
       "      <td>0.0</td>\n",
       "      <td>0.0</td>\n",
       "      <td>9</td>\n",
       "      <td>False</td>\n",
       "    </tr>\n",
       "    <tr>\n",
       "      <th>9</th>\n",
       "      <td>0</td>\n",
       "      <td>0</td>\n",
       "      <td>100</td>\n",
       "      <td>100</td>\n",
       "      <td>0.25</td>\n",
       "      <td>0.0</td>\n",
       "      <td>0.0</td>\n",
       "      <td>10</td>\n",
       "      <td>False</td>\n",
       "    </tr>\n",
       "  </tbody>\n",
       "</table>\n",
       "</div>"
      ],
      "text/plain": [
       "   RunId  iteration  Step    N    mu  sigma  engagement_ratio  AgentID  \\\n",
       "0      0          0   100  100  0.25    0.0               0.0        1   \n",
       "1      0          0   100  100  0.25    0.0               0.0        2   \n",
       "2      0          0   100  100  0.25    0.0               0.0        3   \n",
       "3      0          0   100  100  0.25    0.0               0.0        4   \n",
       "4      0          0   100  100  0.25    0.0               0.0        5   \n",
       "5      0          0   100  100  0.25    0.0               0.0        6   \n",
       "6      0          0   100  100  0.25    0.0               0.0        7   \n",
       "7      0          0   100  100  0.25    0.0               0.0        8   \n",
       "8      0          0   100  100  0.25    0.0               0.0        9   \n",
       "9      0          0   100  100  0.25    0.0               0.0       10   \n",
       "\n",
       "   engaged  \n",
       "0    False  \n",
       "1    False  \n",
       "2    False  \n",
       "3    False  \n",
       "4    False  \n",
       "5    False  \n",
       "6    False  \n",
       "7    False  \n",
       "8    False  \n",
       "9    False  "
      ]
     },
     "execution_count": 33,
     "metadata": {},
     "output_type": "execute_result"
    }
   ],
   "source": [
    "import pandas as pd\n",
    "\n",
    "results_df = pd.DataFrame(results)\n",
    "results_df.head(10)"
   ]
  },
  {
   "cell_type": "code",
   "execution_count": 34,
   "id": "2b430580",
   "metadata": {},
   "outputs": [
    {
     "data": {
      "text/html": [
       "<div>\n",
       "<style scoped>\n",
       "    .dataframe tbody tr th:only-of-type {\n",
       "        vertical-align: middle;\n",
       "    }\n",
       "\n",
       "    .dataframe tbody tr th {\n",
       "        vertical-align: top;\n",
       "    }\n",
       "\n",
       "    .dataframe thead th {\n",
       "        text-align: right;\n",
       "    }\n",
       "</style>\n",
       "<table border=\"1\" class=\"dataframe\">\n",
       "  <thead>\n",
       "    <tr style=\"text-align: right;\">\n",
       "      <th></th>\n",
       "      <th></th>\n",
       "      <th></th>\n",
       "      <th>N</th>\n",
       "      <th>mu</th>\n",
       "      <th>sigma</th>\n",
       "      <th>engagement_ratio</th>\n",
       "      <th>AgentID</th>\n",
       "      <th>engaged</th>\n",
       "    </tr>\n",
       "    <tr>\n",
       "      <th>RunId</th>\n",
       "      <th>iteration</th>\n",
       "      <th>Step</th>\n",
       "      <th></th>\n",
       "      <th></th>\n",
       "      <th></th>\n",
       "      <th></th>\n",
       "      <th></th>\n",
       "      <th></th>\n",
       "    </tr>\n",
       "  </thead>\n",
       "  <tbody>\n",
       "    <tr>\n",
       "      <th>0</th>\n",
       "      <th>0</th>\n",
       "      <th>100</th>\n",
       "      <td>100.0</td>\n",
       "      <td>0.25</td>\n",
       "      <td>0.0</td>\n",
       "      <td>0.00</td>\n",
       "      <td>50.5</td>\n",
       "      <td>0.0</td>\n",
       "    </tr>\n",
       "    <tr>\n",
       "      <th>1</th>\n",
       "      <th>0</th>\n",
       "      <th>100</th>\n",
       "      <td>100.0</td>\n",
       "      <td>0.25</td>\n",
       "      <td>0.1</td>\n",
       "      <td>0.00</td>\n",
       "      <td>50.5</td>\n",
       "      <td>0.0</td>\n",
       "    </tr>\n",
       "    <tr>\n",
       "      <th>2</th>\n",
       "      <th>0</th>\n",
       "      <th>100</th>\n",
       "      <td>100.0</td>\n",
       "      <td>0.25</td>\n",
       "      <td>0.2</td>\n",
       "      <td>0.06</td>\n",
       "      <td>50.5</td>\n",
       "      <td>0.0</td>\n",
       "    </tr>\n",
       "    <tr>\n",
       "      <th>3</th>\n",
       "      <th>0</th>\n",
       "      <th>100</th>\n",
       "      <td>100.0</td>\n",
       "      <td>0.25</td>\n",
       "      <td>0.3</td>\n",
       "      <td>0.23</td>\n",
       "      <td>50.5</td>\n",
       "      <td>0.0</td>\n",
       "    </tr>\n",
       "    <tr>\n",
       "      <th>4</th>\n",
       "      <th>0</th>\n",
       "      <th>100</th>\n",
       "      <td>100.0</td>\n",
       "      <td>0.25</td>\n",
       "      <td>0.4</td>\n",
       "      <td>0.33</td>\n",
       "      <td>50.5</td>\n",
       "      <td>0.0</td>\n",
       "    </tr>\n",
       "    <tr>\n",
       "      <th>...</th>\n",
       "      <th>...</th>\n",
       "      <th>...</th>\n",
       "      <td>...</td>\n",
       "      <td>...</td>\n",
       "      <td>...</td>\n",
       "      <td>...</td>\n",
       "      <td>...</td>\n",
       "      <td>...</td>\n",
       "    </tr>\n",
       "    <tr>\n",
       "      <th>105</th>\n",
       "      <th>9</th>\n",
       "      <th>100</th>\n",
       "      <td>100.0</td>\n",
       "      <td>0.25</td>\n",
       "      <td>0.6</td>\n",
       "      <td>0.26</td>\n",
       "      <td>50.5</td>\n",
       "      <td>0.0</td>\n",
       "    </tr>\n",
       "    <tr>\n",
       "      <th>106</th>\n",
       "      <th>9</th>\n",
       "      <th>100</th>\n",
       "      <td>100.0</td>\n",
       "      <td>0.25</td>\n",
       "      <td>0.7</td>\n",
       "      <td>0.32</td>\n",
       "      <td>50.5</td>\n",
       "      <td>0.0</td>\n",
       "    </tr>\n",
       "    <tr>\n",
       "      <th>107</th>\n",
       "      <th>9</th>\n",
       "      <th>100</th>\n",
       "      <td>100.0</td>\n",
       "      <td>0.25</td>\n",
       "      <td>0.8</td>\n",
       "      <td>0.42</td>\n",
       "      <td>50.5</td>\n",
       "      <td>0.0</td>\n",
       "    </tr>\n",
       "    <tr>\n",
       "      <th>108</th>\n",
       "      <th>9</th>\n",
       "      <th>100</th>\n",
       "      <td>100.0</td>\n",
       "      <td>0.25</td>\n",
       "      <td>0.9</td>\n",
       "      <td>0.41</td>\n",
       "      <td>50.5</td>\n",
       "      <td>0.0</td>\n",
       "    </tr>\n",
       "    <tr>\n",
       "      <th>109</th>\n",
       "      <th>9</th>\n",
       "      <th>100</th>\n",
       "      <td>100.0</td>\n",
       "      <td>0.25</td>\n",
       "      <td>1.0</td>\n",
       "      <td>0.44</td>\n",
       "      <td>50.5</td>\n",
       "      <td>0.0</td>\n",
       "    </tr>\n",
       "  </tbody>\n",
       "</table>\n",
       "<p>110 rows × 6 columns</p>\n",
       "</div>"
      ],
      "text/plain": [
       "                          N    mu  sigma  engagement_ratio  AgentID  engaged\n",
       "RunId iteration Step                                                        \n",
       "0     0         100   100.0  0.25    0.0              0.00     50.5      0.0\n",
       "1     0         100   100.0  0.25    0.1              0.00     50.5      0.0\n",
       "2     0         100   100.0  0.25    0.2              0.06     50.5      0.0\n",
       "3     0         100   100.0  0.25    0.3              0.23     50.5      0.0\n",
       "4     0         100   100.0  0.25    0.4              0.33     50.5      0.0\n",
       "...                     ...   ...    ...               ...      ...      ...\n",
       "105   9         100   100.0  0.25    0.6              0.26     50.5      0.0\n",
       "106   9         100   100.0  0.25    0.7              0.32     50.5      0.0\n",
       "107   9         100   100.0  0.25    0.8              0.42     50.5      0.0\n",
       "108   9         100   100.0  0.25    0.9              0.41     50.5      0.0\n",
       "109   9         100   100.0  0.25    1.0              0.44     50.5      0.0\n",
       "\n",
       "[110 rows x 6 columns]"
      ]
     },
     "execution_count": 34,
     "metadata": {},
     "output_type": "execute_result"
    }
   ],
   "source": [
    "results_df.groupby(by=[\"RunId\", \"iteration\", \"Step\"]).median()\n"
   ]
  },
  {
   "cell_type": "markdown",
   "id": "9fcf0085",
   "metadata": {},
   "source": [
    "## Question 3\n",
    "\n",
    "3.1 Your final task is to investigate how the standard deviation (sigma) of the engagement tresholds distribution influences the final proportion of engaged agents, using a box plot.\n",
    "Box plot should be able to plot the average outcome for each sigma value.\n",
    "\n",
    "**Hint 1:** Your plot should look similar to Figure 2 in [this paper](https://www.jstor.org/stable/2778111) or one of the chart from the slides from the lecture. The phase transition should be visible on the graph.\n",
    "\n",
    "Put your code for answers 3.1 in the box below."
   ]
  },
  {
   "cell_type": "markdown",
   "id": "2a4fc5dc",
   "metadata": {},
   "source": [
    "### **Hint 2:** At the location ``# Answer 3.1 [Your code here]`` you have to implement:\n",
    "\n",
    "- plot the boxplot of engagement ratio values over sigma values from models data you have collected\n",
    "- using the Pandas ``.boxplot()`` method\n",
    "- group engagement ratio values by ``sigma``\n",
    "- plot the ``engagement_ratio`` column"
   ]
  },
  {
   "cell_type": "code",
   "execution_count": 37,
   "id": "79fafebb",
   "metadata": {
    "scrolled": false
   },
   "outputs": [
    {
     "data": {
      "image/png": "[encoded data removed]",
      "text/plain": [
       "<Figure size 2000x1000 with 1 Axes>"
      ]
     },
     "metadata": {},
     "output_type": "display_data"
    }
   ],
   "source": [
    "# Answer 3.1 [Your code here]\n",
    "boxplot = results_df.boxplot(column=['engagement_ratio'], by=['sigma'],figsize=(20, 10))\n"
   ]
  },
  {
   "cell_type": "markdown",
   "id": "9bf232bc",
   "metadata": {},
   "source": [
    "3.2 Do you observe a phase transition in the proportion of engaged agents on your plot, similar to the given paper?\n",
    "\n",
    "3.3 If so, where aproximately lies the critical sigma value for the phase transition?\n",
    "\n",
    "3.4 What is the probability for an agent to have engagement treshold of 0 if we run our simulation with parameters for example sigma = 0.1 and mu = 0.2?\n",
    "\n",
    "Bonus question (not graded): \n",
    "\n",
    "What is the probability for an agent to have engagement treshold of 0.2 if we run our simulation with parameters for example sigma = 0.1 and mu = 0.2?\n",
    "\n",
    "\n",
    "\n",
    "Answer in text below."
   ]
  },
  {
   "cell_type": "markdown",
   "id": "cdaff600",
   "metadata": {},
   "source": [
    "## Answer 3.2, 3.3 and 3.4\n"
   ]
  },
  {
   "cell_type": "markdown",
   "id": "12ca57df",
   "metadata": {},
   "source": [
    "3.2.\n",
    "\n",
    "I have to say the boxplot does not look similar to the plot in the paper. One could observe a bit of a transition at a sigma of 0.2, but then the the medians etc. increase and do not decrease. I looked for a bug in my code but could not find one, so I hope that is correctly\n",
    "\n",
    "3.3. \n",
    "the sigma would be around 0.1\n",
    "\n"
   ]
  },
  {
   "cell_type": "code",
   "execution_count": 38,
   "id": "989ef27c",
   "metadata": {},
   "outputs": [
    {
     "name": "stdout",
     "output_type": "stream",
     "text": [
      "Probability for an agent to have an engagement threshold of 0: 0.0227501319481792\n"
     ]
    }
   ],
   "source": [
    "from scipy.stats import norm\n",
    "\n",
    "mean = 0.2\n",
    "sigma = 0.1\n",
    "\n",
    "probability = norm.cdf(0, loc=mean, scale=sigma)\n",
    "\n",
    "print(\"Probability for an agent to have an engagement threshold of 0:\", probability)\n"
   ]
  },
  {
   "cell_type": "markdown",
   "id": "e42c98a1",
   "metadata": {},
   "source": [
    "Probability for an agent to have an engagement threshold of 0: 0.0227501319481792"
   ]
  },
  {
   "cell_type": "markdown",
   "id": "fbb86fcb",
   "metadata": {},
   "source": []
  }
 ],
 "metadata": {
  "kernelspec": {
   "display_name": "Python 3 (ipykernel)",
   "language": "python",
   "name": "python3"
  },
  "language_info": {
   "codemirror_mode": {
    "name": "ipython",
    "version": 3
   },
   "file_extension": ".py",
   "mimetype": "text/x-python",
   "name": "python",
   "nbconvert_exporter": "python",
   "pygments_lexer": "ipython3",
   "version": "3.11.3"
  }
 },
 "nbformat": 4,
 "nbformat_minor": 5
}
